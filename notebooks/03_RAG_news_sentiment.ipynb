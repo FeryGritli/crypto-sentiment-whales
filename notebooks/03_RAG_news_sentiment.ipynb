{
 "cells": [
  {
   "cell_type": "code",
   "execution_count": 1,
   "id": "e5763773",
   "metadata": {},
   "outputs": [
    {
     "name": "stdout",
     "output_type": "stream",
     "text": [
      "                                           news_text  vote_sentiment  \\\n",
      "0  Cardano (ADA) Skyrockets in This Bullish Metri...              -3   \n",
      "1  4 altcoins to buy under $1 for start of 2024 A...               0   \n",
      "2  4 altcoins to buy under $1 for start of 2024 A...               0   \n",
      "3  4 altcoins to buy under $1 for start of 2024 A...               0   \n",
      "4  4 altcoins to buy under $1 for start of 2024 A...               0   \n",
      "\n",
      "   vote_sentiment_norm  vader_sentiment sentiment_label  \n",
      "0            -0.272727           0.7096        positive  \n",
      "1             0.000000           0.0000         neutral  \n",
      "2             0.000000           0.0000         neutral  \n",
      "3             0.000000           0.0000         neutral  \n",
      "4             0.000000           0.0000         neutral  \n"
     ]
    }
   ],
   "source": [
    "import pandas as pd\n",
    "from vaderSentiment.vaderSentiment import SentimentIntensityAnalyzer\n",
    "\n",
    "# Load your news file\n",
    "df = pd.read_csv(\"RAG_new_2024-2025.csv\")\n",
    "\n",
    "# Vote-based sentiment (both raw and normalized)\n",
    "df['vote_sentiment'] = df['positiveVotes'] - df['negativeVotes']\n",
    "df['vote_sentiment_norm'] = (df['positiveVotes'] - df['negativeVotes']) / (df['positiveVotes'] + df['negativeVotes'] + 1e-5)\n",
    "\n",
    "# Prepare VADER\n",
    "analyzer = SentimentIntensityAnalyzer()\n",
    "\n",
    "# Combine title and description for text sentiment\n",
    "df['news_text'] = df['title'].fillna('') + ' ' + df['description'].fillna('')\n",
    "\n",
    "# VADER compound sentiment score\n",
    "df['vader_sentiment'] = df['news_text'].apply(lambda x: analyzer.polarity_scores(x)['compound'])\n",
    "\n",
    "# (Optional) Sentiment category label from VADER\n",
    "df['sentiment_label'] = df['vader_sentiment'].apply(\n",
    "    lambda x: 'positive' if x >= 0.05 else ('negative' if x <= -0.05 else 'neutral')\n",
    ")\n",
    "\n",
    "# Save result\n",
    "df.to_csv(\"RAG_new_2024-2025_with_both_sentiments.csv\", index=False)\n",
    "\n",
    "# Quick look\n",
    "print(df[['news_text', 'vote_sentiment', 'vote_sentiment_norm', 'vader_sentiment', 'sentiment_label']].head())\n"
   ]
  },
  {
   "cell_type": "code",
   "execution_count": 3,
   "id": "89162f07",
   "metadata": {},
   "outputs": [
    {
     "name": "stdout",
     "output_type": "stream",
     "text": [
      "Done! Polarity follows VADER sentiment in case of disagreement. File saved as RAG_new_2024-2025_with_sentiment_polarity.csv\n"
     ]
    }
   ],
   "source": [
    "import pandas as pd\n",
    "from vaderSentiment.vaderSentiment import SentimentIntensityAnalyzer\n",
    "\n",
    "# Load your file\n",
    "df = pd.read_csv(\"RAG_new_2024-2025.csv\")\n",
    "\n",
    "# Calculate vote_sentiment\n",
    "df['vote_sentiment'] = df['positiveVotes'] - df['negativeVotes']\n",
    "\n",
    "# VADER sentiment (compound score)\n",
    "analyzer = SentimentIntensityAnalyzer()\n",
    "df['news_text'] = df['title'].fillna('') + ' ' + df['description'].fillna('')\n",
    "df['sentiment'] = df['news_text'].apply(lambda x: analyzer.polarity_scores(x)['compound'])\n",
    "\n",
    "# Helper: map scores to labels\n",
    "def vote_label(v):\n",
    "    if v > 0:\n",
    "        return 'positive'\n",
    "    elif v < 0:\n",
    "        return 'negative'\n",
    "    else:\n",
    "        return 'neutral'\n",
    "\n",
    "def sentiment_label(s):\n",
    "    if s >= 0.05:\n",
    "        return 'positive'\n",
    "    elif s <= -0.05:\n",
    "        return 'negative'\n",
    "    else:\n",
    "        return 'neutral'\n",
    "\n",
    "# Final polarity: if vote and sentiment agree, use that; otherwise, use sentiment\n",
    "def final_polarity(row):\n",
    "    v_lab = vote_label(row['vote_sentiment'])\n",
    "    s_lab = sentiment_label(row['sentiment'])\n",
    "    if v_lab == s_lab:\n",
    "        return s_lab  # they agree, use either\n",
    "    else:\n",
    "        return s_lab  # if they disagree, follow sentiment\n",
    "\n",
    "df['polarity'] = df.apply(final_polarity, axis=1)\n",
    "\n",
    "# Drop helper column if desired\n",
    "df = df.drop(columns=['news_text'])\n",
    "\n",
    "# Save new file\n",
    "df.to_csv(\"RAG_new_2024-2025_with_sentiment_polarity.csv\", index=False)\n",
    "\n",
    "print(\"Done! Polarity follows VADER sentiment in case of disagreement. File saved as RAG_new_2024-2025_with_sentiment_polarity.csv\")\n"
   ]
  },
  {
   "cell_type": "code",
   "execution_count": 4,
   "id": "1a511f7e",
   "metadata": {},
   "outputs": [
    {
     "name": "stdout",
     "output_type": "stream",
     "text": [
      "['id', 'title', 'description', 'newsDatetime', 'url', 'positiveVotes', 'negativeVotes', 'sourceUrl', 'currencies', 'vote_sentiment', 'sentiment', 'polarity']\n"
     ]
    }
   ],
   "source": [
    "import pandas as pd\n",
    "\n",
    "# Load the new file\n",
    "df = pd.read_csv(\"RAG_new_2024-2025_with_sentiment_polarity.csv\")\n",
    "\n",
    "# Display column names\n",
    "print(df.columns.tolist())"
   ]
  },
  {
   "cell_type": "code",
   "execution_count": null,
   "id": "d2f56c94",
   "metadata": {},
   "outputs": [],
   "source": []
  }
 ],
 "metadata": {
  "kernelspec": {
   "display_name": "crypto-nlp",
   "language": "python",
   "name": "python3"
  },
  "language_info": {
   "codemirror_mode": {
    "name": "ipython",
    "version": 3
   },
   "file_extension": ".py",
   "mimetype": "text/x-python",
   "name": "python",
   "nbconvert_exporter": "python",
   "pygments_lexer": "ipython3",
   "version": "3.10.18"
  }
 },
 "nbformat": 4,
 "nbformat_minor": 5
}
